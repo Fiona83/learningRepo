{
 "cells": [
  {
   "cell_type": "markdown",
   "id": "4dc53eee",
   "metadata": {},
   "source": [
    "# Python Web Access 的那些库"
   ]
  },
  {
   "cell_type": "markdown",
   "id": "77ae7cec",
   "metadata": {},
   "source": [
    "## 基础库：Socket"
   ]
  },
  {
   "cell_type": "markdown",
   "id": "93b17c8b",
   "metadata": {},
   "source": [
    "Socket是Python的用于HTTP通信的最基础包。\n",
    "\n",
    "*以下程序基于Python for Everybody的学习课程。*"
   ]
  },
  {
   "cell_type": "markdown",
   "id": "2fda88fe",
   "metadata": {},
   "source": [
    "### Step 1：导入socket库"
   ]
  },
  {
   "cell_type": "code",
   "execution_count": 2,
   "id": "7d4de71e",
   "metadata": {},
   "outputs": [],
   "source": [
    "import socket"
   ]
  },
  {
   "cell_type": "markdown",
   "id": "86a7b16b",
   "metadata": {},
   "source": [
    "### Step 2：建立连接"
   ]
  },
  {
   "cell_type": "markdown",
   "id": "0854baa7",
   "metadata": {},
   "source": [
    "socket库比较原始，所以cmd必须严格按照HTTP的命令格式书写，包括后面的'\\r\\n\\r\\n'书写不正确都会造成错误。此外最后需要用encode()命令将原本的unicode格式编码成binary发送。"
   ]
  },
  {
   "cell_type": "code",
   "execution_count": 41,
   "id": "0a26ec58",
   "metadata": {},
   "outputs": [
    {
     "data": {
      "text/plain": [
       "53"
      ]
     },
     "execution_count": 41,
     "metadata": {},
     "output_type": "execute_result"
    }
   ],
   "source": [
    "mysock = socket.socket(socket.AF_INET, socket.SOCK_STREAM)\n",
    "mysock.connect(('data.pr4e.org', 80))\n",
    "cmd = 'GET http://data.pr4e.org/intro-short.txt HTTP/1.0\\r\\n\\r\\n'.encode()\n",
    "mysock.send(cmd)"
   ]
  },
  {
   "cell_type": "markdown",
   "id": "2a3f0f03",
   "metadata": {},
   "source": [
    "### Step 3：读取数据"
   ]
  },
  {
   "cell_type": "markdown",
   "id": "bdc38c61",
   "metadata": {},
   "source": [
    "接着我们就可以从建立的Socket来读取数据。用的方法是recv(buffersize)，buffersize是recv一次允许接收的最大数量内容。recv接收的内容为byte格式，所以我们在print输入的时候需要用decode()命令将它再次转化为unicode。"
   ]
  },
  {
   "cell_type": "code",
   "execution_count": 42,
   "id": "b4b90f11",
   "metadata": {},
   "outputs": [
    {
     "name": "stdout",
     "output_type": "stream",
     "text": [
      "HTTP/1.1 200 OK\r\n",
      "Date: Sun, 09 Oct 2022 12:56:52 GMT\r\n",
      "Server: Apache/2.4.18 (Ubuntu)\r\n",
      "Last-Modified: Sat, 13 May 2017 11:22:22 GMT\r\n",
      "ETag: \"1d3-54f6609240717\"\r\n",
      "Accept-Ranges: bytes\r\n",
      "Content-Length: 467\r\n",
      "Cache-Control: max-age=0, no-cache, no-store, must-revalidate\r\n",
      "Pragma: no-cache\r\n",
      "Expires: Wed, 11 Jan 1984 05:00:00 GMT\r\n",
      "Connection: close\r\n",
      "Content-Type: text/plain\r\n",
      "\r\n",
      "Why should you learn to write programs?\n",
      "\n",
      "Writing programs (or programming) is a very creative \n",
      "and rewarding activity.  You can write programs for \n",
      "many reasons, ranging from making your living to solving\n",
      "a difficult data analysis problem to having fun to helping\n",
      "someone else solve a problem.  This book assumes that \n",
      "everyone needs to know how to program, and that once \n",
      "you know how to program you will figure out what you want \n",
      "to do with your newfound skills.  \n"
     ]
    }
   ],
   "source": [
    "while True:\n",
    "    data = mysock.recv(512)\n",
    "    if len(data) < 1:\n",
    "        break\n",
    "    print(data.decode(),end='')"
   ]
  },
  {
   "cell_type": "markdown",
   "id": "fa075faa",
   "metadata": {},
   "source": [
    "### Step 4：关闭socket"
   ]
  },
  {
   "cell_type": "code",
   "execution_count": 43,
   "id": "b91e433c",
   "metadata": {},
   "outputs": [],
   "source": [
    "mysock.close()"
   ]
  },
  {
   "cell_type": "markdown",
   "id": "c063e1cc",
   "metadata": {},
   "source": [
    "### 总结"
   ]
  },
  {
   "cell_type": "markdown",
   "id": "7d2a43fe",
   "metadata": {},
   "source": [
    "由于socket是非常低阶的HTTP连接方式，并且接收的数据不方便处理。所以在实际程序里我们很少用这个包。"
   ]
  },
  {
   "cell_type": "markdown",
   "id": "41f225ad",
   "metadata": {},
   "source": [
    "## 进阶库1：urllib"
   ]
  },
  {
   "cell_type": "markdown",
   "id": "7a635727",
   "metadata": {},
   "source": [
    "urllib具体包含了四个组成部分：\n",
    "1. urllib.request：用以打开和读取URL\n",
    "2. urllib.error：包括了urllib.request产生的报错信息\n",
    "3. urllib.parse：用以解析URL，包括添加parameter等操作\n",
    "4. urllib.robotparser：用来解析robot.txt文件\n",
    "\n",
    "详细内容够可以参考https://docs.python.org/3/library/urllib.html \n",
    "\n",
    "*以下程序很大程度上参考了Python for Everybody的课程内容*"
   ]
  },
  {
   "cell_type": "markdown",
   "id": "2bf55781",
   "metadata": {},
   "source": [
    "### Step 1：导入基础库"
   ]
  },
  {
   "cell_type": "code",
   "execution_count": 143,
   "id": "b3e5fbbe",
   "metadata": {},
   "outputs": [],
   "source": [
    "import urllib.request, urllib.parse, urllib.error\n",
    "import ssl\n",
    "import json"
   ]
  },
  {
   "cell_type": "markdown",
   "id": "50d47cef",
   "metadata": {},
   "source": [
    "这里我们没有导入整个urllib，因为robotparser那一部分我们不需要使用。"
   ]
  },
  {
   "cell_type": "markdown",
   "id": "cff8690f",
   "metadata": {},
   "source": [
    "### Step 2：打开URL并获取数据"
   ]
  },
  {
   "cell_type": "markdown",
   "id": "350a08b7",
   "metadata": {},
   "source": [
    "我们先来处理一下ssl加密证书。"
   ]
  },
  {
   "cell_type": "code",
   "execution_count": 144,
   "id": "0dfdc202",
   "metadata": {},
   "outputs": [],
   "source": [
    "# Ignore SSL certificate errors\n",
    "ctx = ssl.create_default_context()\n",
    "ctx.check_hostname = False\n",
    "ctx.verify_mode = ssl.CERT_NONE"
   ]
  },
  {
   "cell_type": "markdown",
   "id": "379c90a5",
   "metadata": {},
   "source": [
    "接着就可以使用urlopen函数来打开URL了。\n",
    "\n",
    "这里我们使用http://httpbin.org 这个API，它提供简单的HTTP request和response服务，并支持query parameters。"
   ]
  },
  {
   "cell_type": "code",
   "execution_count": 145,
   "id": "0ff442e4",
   "metadata": {},
   "outputs": [],
   "source": [
    "url_get='http://httpbin.org/get'\n",
    "payload={\"name\":\"Joseph\",\"ID\":\"123\"}"
   ]
  },
  {
   "cell_type": "markdown",
   "id": "493142be",
   "metadata": {},
   "source": [
    "这里urllib库和后面提到的requests库的处理parameters的方式不太一样。\n",
    "1. '?'需要手动添加\n",
    "2. 使用函数urlencode可以将类型为dictionary的payload转化成query parameters"
   ]
  },
  {
   "cell_type": "code",
   "execution_count": 146,
   "id": "46a1da30",
   "metadata": {},
   "outputs": [
    {
     "data": {
      "text/plain": [
       "'http://httpbin.org/get?name=Joseph&ID=123'"
      ]
     },
     "execution_count": 146,
     "metadata": {},
     "output_type": "execute_result"
    }
   ],
   "source": [
    "url = url_get + '?' + urllib.parse.urlencode(payload)\n",
    "url"
   ]
  },
  {
   "cell_type": "markdown",
   "id": "07d80f19",
   "metadata": {},
   "source": [
    "接着我们就可以用urlopen来打开URL并从服务器端获得数据。用read()可以读取到类型为byte的数据。利用decode()可以将其转化为String类型。\n",
    "\n",
    "在本例中，是否添加'context=ctx'的参数不影响输出结果。因为该API没有进行加密设置。"
   ]
  },
  {
   "cell_type": "code",
   "execution_count": 147,
   "id": "8e9b7281",
   "metadata": {},
   "outputs": [
    {
     "name": "stdout",
     "output_type": "stream",
     "text": [
      "<class 'http.client.HTTPResponse'> <class 'str'>\n",
      "{\n",
      "  \"args\": {\n",
      "    \"ID\": \"123\", \n",
      "    \"name\": \"Joseph\"\n",
      "  }, \n",
      "  \"headers\": {\n",
      "    \"Accept-Encoding\": \"identity\", \n",
      "    \"Host\": \"httpbin.org\", \n",
      "    \"User-Agent\": \"Python-urllib/3.9\", \n",
      "    \"X-Amzn-Trace-Id\": \"Root=1-63432b00-25330f8b694ca54e71bf5833\"\n",
      "  }, \n",
      "  \"origin\": \"87.189.151.85\", \n",
      "  \"url\": \"http://httpbin.org/get?name=Joseph&ID=123\"\n",
      "}\n",
      "\n"
     ]
    }
   ],
   "source": [
    "#r = urllib.request.urlopen(url)\n",
    "r = urllib.request.urlopen(url, context=ctx)\n",
    "data = r.read().decode()\n",
    "print(type(r), type(data))\n",
    "print(data)"
   ]
  },
  {
   "cell_type": "markdown",
   "id": "488189d0",
   "metadata": {},
   "source": [
    "接着我们可以用用json来进一步将String类型的数据转换成dictionary，来方便进一步处理。"
   ]
  },
  {
   "cell_type": "code",
   "execution_count": 150,
   "id": "c21d27c2",
   "metadata": {},
   "outputs": [
    {
     "name": "stdout",
     "output_type": "stream",
     "text": [
      "dict_keys(['args', 'headers', 'origin', 'url'])\n"
     ]
    }
   ],
   "source": [
    "dict = json.loads(data)\n",
    "print(dict.keys())"
   ]
  },
  {
   "cell_type": "markdown",
   "id": "eca2de68",
   "metadata": {},
   "source": [
    "### 总结"
   ]
  },
  {
   "cell_type": "markdown",
   "id": "f6929ca5",
   "metadata": {},
   "source": [
    "urllib是个相比于socket高阶很多的URL库，能实现更多的功能。"
   ]
  },
  {
   "cell_type": "markdown",
   "id": "69b48b51",
   "metadata": {},
   "source": [
    "## 进阶库2：requests"
   ]
  },
  {
   "cell_type": "markdown",
   "id": "c6a117b1",
   "metadata": {},
   "source": [
    "requests是一个简单且非常受欢迎的python库，使用起来非常简单。通过和其他库的叠加可以实现网络数据的获取和分析。\n",
    "\n",
    "*这部分内容基于IBM Skills提供的Python for Data Science, AI & Development。*"
   ]
  },
  {
   "cell_type": "markdown",
   "id": "9c03f44c",
   "metadata": {},
   "source": [
    "### Step 1：导入requests库"
   ]
  },
  {
   "cell_type": "code",
   "execution_count": 44,
   "id": "ffbea2fd",
   "metadata": {},
   "outputs": [],
   "source": [
    "import requests"
   ]
  },
  {
   "cell_type": "markdown",
   "id": "969be413",
   "metadata": {},
   "source": [
    "### Step 2：向web server发送request请求"
   ]
  },
  {
   "cell_type": "markdown",
   "id": "f1c3af92",
   "metadata": {},
   "source": [
    "简单的使用requests.get()就可以从指定的URL获得数据。我们将数据存储在response里，来仔细看一下response都包含一些什么内容。"
   ]
  },
  {
   "cell_type": "code",
   "execution_count": 59,
   "id": "86536ded",
   "metadata": {},
   "outputs": [],
   "source": [
    "url='https://www.ibm.com/'\n",
    "response = requests.get(url)"
   ]
  },
  {
   "cell_type": "markdown",
   "id": "49cdd7db",
   "metadata": {},
   "source": [
    "requests库返回的response包含三部分：\n",
    "1. response start line：其中包含了返回的数据。200表示ok，404表示page not found，除此之外还有很多其他状态。具体可以查询相关documentation。\n",
    "2. response header：包含了网页的meta data，包括内容编码等具体信息。\n",
    "3. response body：这里就是具体从网页上获取的数据了。\n",
    "\n",
    "接下来我们具体看一下各个部分的内容。"
   ]
  },
  {
   "cell_type": "code",
   "execution_count": 60,
   "id": "687c824e",
   "metadata": {},
   "outputs": [
    {
     "name": "stdout",
     "output_type": "stream",
     "text": [
      "Response start line: 200\n"
     ]
    }
   ],
   "source": [
    "print('Response start line:', response.status_code)"
   ]
  },
  {
   "cell_type": "code",
   "execution_count": 61,
   "id": "f9ac37ea",
   "metadata": {},
   "outputs": [
    {
     "name": "stdout",
     "output_type": "stream",
     "text": [
      "Response header:\n",
      "Header type: <class 'requests.structures.CaseInsensitiveDict'>\n",
      "{'Server': 'Apache', 'x-drupal-dynamic-cache': 'UNCACHEABLE', 'Link': '<https://www.ibm.com/de-de>; rel=\"canonical\", <//1.cms.s81c.com>; rel=preconnect; crossorigin, <//1.cms.s81c.com>; rel=dns-prefetch', 'x-ua-compatible': 'IE=edge', 'Content-Language': 'de-de', 'Permissions-Policy': 'interest-cohort=()', 'x-generator': 'Drupal 9 (https://www.drupal.org)', 'x-dns-prefetch-control': 'on', 'x-drupal-cache': 'MISS', 'Last-Modified': 'Sun, 09 Oct 2022 11:49:49 GMT', 'ETag': '\"1665316189\"', 'Content-Type': 'text/html; charset=UTF-8', 'x-acquia-host': 'www.ibm.com', 'x-acquia-path': '/de-de', 'x-acquia-site': '', 'x-acquia-purge-tags': '', 'x-varnish': '783984292 789261231', 'x-cache-hits': '3', 'x-age': '4388', 'Accept-Ranges': 'bytes', 'Content-Encoding': 'gzip', 'Cache-Control': 'public, max-age=300', 'Expires': 'Sun, 09 Oct 2022 13:34:48 GMT', 'X-Akamai-Transformed': '9 10613 0 pmb=mTOE,2', 'Date': 'Sun, 09 Oct 2022 13:29:48 GMT', 'Content-Length': '10787', 'Connection': 'keep-alive', 'Vary': 'Accept-Encoding', 'x-content-type-options': 'nosniff', 'X-XSS-Protection': '1; mode=block', 'Content-Security-Policy': 'upgrade-insecure-requests', 'Strict-Transport-Security': 'max-age=31536000', 'x-ibm-trace': 'www-dipatcher: dynamic rule'}\n"
     ]
    }
   ],
   "source": [
    "header = response.headers\n",
    "print('Response header:')\n",
    "print('Header type:', type(header))\n",
    "print(header)"
   ]
  },
  {
   "cell_type": "markdown",
   "id": "56a142a0",
   "metadata": {},
   "source": [
    "这里有一个比较烧脑的概念，我们上面看到的header是response的header部分。除了response，request其实也有三个部分组成，分别是：\n",
    "1. request start line: 这里通常包含了GET指令，基本内容等同于上一节socket库里我们讲的cmd。举例：'GET http://data.pr4e.org/intro-short.txt HTTP/1.0'，request库会自动给指令转换编码。\n",
    "2. request header：里面是request里的meta data\n",
    "3. request body：request的body部分为空。\n",
    "\n",
    "我们通过reponse可以看到request的header和body内容，具体如下："
   ]
  },
  {
   "cell_type": "code",
   "execution_count": 66,
   "id": "9e0a05e9",
   "metadata": {},
   "outputs": [
    {
     "name": "stdout",
     "output_type": "stream",
     "text": [
      "Request header:\n",
      "{'User-Agent': 'python-requests/2.27.1', 'Accept-Encoding': 'gzip, deflate, br', 'Accept': '*/*', 'Connection': 'keep-alive', 'Cookie': '_abck=FA838D7453DFFF5BD1581CC820A2A2F4~-1~YAAQVIUVAmKY0oCDAQAAgf/vvAiDkfslAf2sUMcUZsl1IaWBiF+9GbNuIE0kDMkSbXE/E0F7xk9DHarF28ijimamT1IYzZpAYHXgPQ+Gy2L/bLF8bOMAw9B5SAO7uJ1tdKN6UQ8DkQWMRoV4OzIHp1W746A9yq19C6oMuVdCVMwWjW7gN76KeWQC+Py9RD5skQv9Pn+BmYFqLStvYXrreIWNKEZPvLX5IIcBqBL+hLvW8dji+Dt/rtyUQQ/QpPTqe0/mk/yLdBZrdQnOrgAwx0mg5ehkD84xpXwIdNwBpBQoN6DB98+az+fVftjLz5LMs14MBJSuV8lpkQQxarGgoOIeYIypMHAzYzLvHu9upwrjzPCE+38=~-1~-1~-1; bm_sz=3E568EA145059644EF1F9CF7EE947F35~YAAQVIUVAmOY0oCDAQAAgf/vvBERs6Y5WmPpHRHAGKqF8QR0Sj/bmTkuv40xi2UDsOsr1VEx6Cc+qzxV6BscfkVzrHOUQH+kaBPK4tn91yOlV1UEo6zgm9EFVqH/2DU1+KF6XwRftyRST1/yH1yAZ2lcaI0yMsto0lTh8VeQZbFK8nlfGLdm1/8j9ghS1fIJCBnqg83yjceBp2AX2Gg2ttu2mXMr3Cs8holp0vSeJCRbaFALgNM26gJ9fZZe/hpdWiVbyGfv/5j+uA+TZLEh2UbopvflxLgNh6fPHVCECCA=~3359809~4408375'}\n"
     ]
    }
   ],
   "source": [
    "print('Request header:')\n",
    "print(response.request.headers)"
   ]
  },
  {
   "cell_type": "markdown",
   "id": "bf27d7d7",
   "metadata": {},
   "source": [
    "**这里对比上面的response header我们可以发现内容是不一样的。**"
   ]
  },
  {
   "cell_type": "code",
   "execution_count": 67,
   "id": "549195fc",
   "metadata": {},
   "outputs": [
    {
     "name": "stdout",
     "output_type": "stream",
     "text": [
      "Request body:\n",
      "None\n"
     ]
    }
   ],
   "source": [
    "print('Request body:')\n",
    "print(response.request.body)"
   ]
  },
  {
   "cell_type": "markdown",
   "id": "d994ba98",
   "metadata": {},
   "source": [
    "### Step 3：分析获取的数据"
   ]
  },
  {
   "cell_type": "markdown",
   "id": "ae8567d2",
   "metadata": {},
   "source": [
    "接下来我们来仔细拆分一下response body，也就是我们从网站获取的数据。\n",
    "首先我们调取一下reponse header**content-type**来看一下我们获取到的是什么数据。"
   ]
  },
  {
   "cell_type": "code",
   "execution_count": 68,
   "id": "be7439d0",
   "metadata": {},
   "outputs": [
    {
     "data": {
      "text/plain": [
       "'text/html; charset=UTF-8'"
      ]
     },
     "execution_count": 68,
     "metadata": {},
     "output_type": "execute_result"
    }
   ],
   "source": [
    "header['content-type']"
   ]
  },
  {
   "cell_type": "markdown",
   "id": "ca265be3",
   "metadata": {},
   "source": [
    "这里我们可以看到网页返回的数据类型是html格式。requests库提供了content和text两个属性给我们调用内容。\n",
    "- content：返回的是binary类型的原始数据\n",
    "- text：返回的是经过解码的String类型的数据"
   ]
  },
  {
   "cell_type": "code",
   "execution_count": 72,
   "id": "b460519a",
   "metadata": {},
   "outputs": [
    {
     "name": "stdout",
     "output_type": "stream",
     "text": [
      "Type of content: <class 'bytes'>\n",
      "Type of text: <class 'str'>\n"
     ]
    }
   ],
   "source": [
    "print('Type of content:', type(response.content))\n",
    "print('Type of text:', type(response.text))"
   ]
  },
  {
   "cell_type": "markdown",
   "id": "b2668467",
   "metadata": {},
   "source": [
    "此外我们用encoding属性可以看到网页数据的编码格式。"
   ]
  },
  {
   "cell_type": "code",
   "execution_count": 73,
   "id": "c025c097",
   "metadata": {},
   "outputs": [
    {
     "data": {
      "text/plain": [
       "'UTF-8'"
      ]
     },
     "execution_count": 73,
     "metadata": {},
     "output_type": "execute_result"
    }
   ],
   "source": [
    "response.encoding"
   ]
  },
  {
   "cell_type": "markdown",
   "id": "d636f327",
   "metadata": {},
   "source": [
    "有的时候网站返回的不是html格式的内容。下面我们看一个例子。\n",
    "\n",
    "http://httpbin.org 提供简单的HTTP request和response服务。我们直接从该网站获取一个json文件。具体如下："
   ]
  },
  {
   "cell_type": "code",
   "execution_count": 77,
   "id": "93caad24",
   "metadata": {},
   "outputs": [],
   "source": [
    "url='http://httpbin.org/json'\n",
    "r = requests.get(url)"
   ]
  },
  {
   "cell_type": "code",
   "execution_count": 83,
   "id": "5fb1a396",
   "metadata": {},
   "outputs": [
    {
     "name": "stdout",
     "output_type": "stream",
     "text": [
      "200\n",
      "application/json\n"
     ]
    }
   ],
   "source": [
    "print(r.status_code)\n",
    "print(r.headers['content-type'])"
   ]
  },
  {
   "cell_type": "markdown",
   "id": "5e76b243",
   "metadata": {},
   "source": [
    "从headers里我们可以看到，我们接收到的是一个json文件。requests库专门提供了一个解析json文件的函数json()，利用这个函数可以直接把获取的json文件转换成python的dictionary，具体如下："
   ]
  },
  {
   "cell_type": "code",
   "execution_count": 92,
   "id": "e17d8b74",
   "metadata": {},
   "outputs": [
    {
     "name": "stdout",
     "output_type": "stream",
     "text": [
      "<class 'dict'>\n",
      "{'slideshow': {'author': 'Yours Truly', 'date': 'date of publication', 'slides': [{'title': 'Wake up to WonderWidgets!', 'type': 'all'}, {'items': ['Why <em>WonderWidgets</em> are great', 'Who <em>buys</em> WonderWidgets'], 'title': 'Overview', 'type': 'all'}], 'title': 'Sample Slide Show'}}\n"
     ]
    }
   ],
   "source": [
    "data = r.json()\n",
    "print(type(data))\n",
    "print(data)"
   ]
  },
  {
   "cell_type": "markdown",
   "id": "865b75c8",
   "metadata": {},
   "source": [
    "这里我们发现data是个嵌套的dictionary，接下来我们可以用常用的方法来处理接收到的数据。甚至可以用pandas把数据转换成dataframe来进行处理。"
   ]
  },
  {
   "cell_type": "code",
   "execution_count": 112,
   "id": "18e37a39",
   "metadata": {},
   "outputs": [],
   "source": [
    "import pandas as pd"
   ]
  },
  {
   "cell_type": "code",
   "execution_count": 113,
   "id": "ad1a0024",
   "metadata": {},
   "outputs": [
    {
     "name": "stdout",
     "output_type": "stream",
     "text": [
      "dict_keys(['author', 'date', 'slides', 'title'])\n"
     ]
    },
    {
     "data": {
      "text/html": [
       "<div>\n",
       "<style scoped>\n",
       "    .dataframe tbody tr th:only-of-type {\n",
       "        vertical-align: middle;\n",
       "    }\n",
       "\n",
       "    .dataframe tbody tr th {\n",
       "        vertical-align: top;\n",
       "    }\n",
       "\n",
       "    .dataframe thead th {\n",
       "        text-align: right;\n",
       "    }\n",
       "</style>\n",
       "<table border=\"1\" class=\"dataframe\">\n",
       "  <thead>\n",
       "    <tr style=\"text-align: right;\">\n",
       "      <th></th>\n",
       "      <th>author</th>\n",
       "      <th>date</th>\n",
       "      <th>slides</th>\n",
       "      <th>title</th>\n",
       "    </tr>\n",
       "  </thead>\n",
       "  <tbody>\n",
       "    <tr>\n",
       "      <th>0</th>\n",
       "      <td>Yours Truly</td>\n",
       "      <td>date of publication</td>\n",
       "      <td>{'title': 'Wake up to WonderWidgets!', 'type':...</td>\n",
       "      <td>Sample Slide Show</td>\n",
       "    </tr>\n",
       "    <tr>\n",
       "      <th>1</th>\n",
       "      <td>Yours Truly</td>\n",
       "      <td>date of publication</td>\n",
       "      <td>{'items': ['Why &lt;em&gt;WonderWidgets&lt;/em&gt; are gre...</td>\n",
       "      <td>Sample Slide Show</td>\n",
       "    </tr>\n",
       "  </tbody>\n",
       "</table>\n",
       "</div>"
      ],
      "text/plain": [
       "        author                 date  \\\n",
       "0  Yours Truly  date of publication   \n",
       "1  Yours Truly  date of publication   \n",
       "\n",
       "                                              slides              title  \n",
       "0  {'title': 'Wake up to WonderWidgets!', 'type':...  Sample Slide Show  \n",
       "1  {'items': ['Why <em>WonderWidgets</em> are gre...  Sample Slide Show  "
      ]
     },
     "execution_count": 113,
     "metadata": {},
     "output_type": "execute_result"
    }
   ],
   "source": [
    "true_data = data['slideshow']\n",
    "print(true_data.keys())\n",
    "df = pd.DataFrame(true_data)\n",
    "df"
   ]
  },
  {
   "cell_type": "markdown",
   "id": "dd491e06",
   "metadata": {},
   "source": [
    "仔细看这里由于slides里是一个有两个element的List， 所以pandas自动把数据拆分成了两行。"
   ]
  },
  {
   "cell_type": "markdown",
   "id": "78b3a1a0",
   "metadata": {},
   "source": [
    "HTTP request可以返回的数据类型除了上面提到的html和json以外还有很多种。具体处理方法我们需要具体分析。这部分内容会在其他文件里进一步分析。"
   ]
  },
  {
   "cell_type": "markdown",
   "id": "e7f99e32",
   "metadata": {},
   "source": [
    "### Step 4：给URL添加query parameters"
   ]
  },
  {
   "cell_type": "markdown",
   "id": "ec42683c",
   "metadata": {},
   "source": [
    "除了上面我们看到的普通URL，有些URL是可以添加query parameters的，例如'http://httpbin.org/get?name=Joseph&ID=123' ，'?'代表后面跟的是parameters，这里我们看到有两个parameters，分别是'name=Jsseph'和'ID=123'。"
   ]
  },
  {
   "cell_type": "code",
   "execution_count": 114,
   "id": "57b41e55",
   "metadata": {},
   "outputs": [],
   "source": [
    "import json"
   ]
  },
  {
   "cell_type": "code",
   "execution_count": 115,
   "id": "2f304c84",
   "metadata": {},
   "outputs": [],
   "source": [
    "url_get='http://httpbin.org/get'\n",
    "payload={\"name\":\"Joseph\",\"ID\":\"123\"}\n",
    "r=requests.get(url_get,params=payload)"
   ]
  },
  {
   "cell_type": "markdown",
   "id": "18634644",
   "metadata": {},
   "source": [
    "我们可以用url属性来查看一下实际的url是什么。"
   ]
  },
  {
   "cell_type": "code",
   "execution_count": 116,
   "id": "93c3354b",
   "metadata": {},
   "outputs": [
    {
     "data": {
      "text/plain": [
       "'http://httpbin.org/get?name=Joseph&ID=123'"
      ]
     },
     "execution_count": 116,
     "metadata": {},
     "output_type": "execute_result"
    }
   ],
   "source": [
    "r.url"
   ]
  },
  {
   "cell_type": "markdown",
   "id": "4c7f20d5",
   "metadata": {},
   "source": [
    "接着我们来查看一下获取数据的返回结果。"
   ]
  },
  {
   "cell_type": "code",
   "execution_count": 117,
   "id": "1fb98b0b",
   "metadata": {},
   "outputs": [
    {
     "name": "stdout",
     "output_type": "stream",
     "text": [
      "Data retrieved successfully.\n"
     ]
    }
   ],
   "source": [
    "# get the status code\n",
    "if r.status_code == 200:\n",
    "    print('Data retrieved successfully.')\n",
    "else:\n",
    "    print('Something wrong happened.')"
   ]
  },
  {
   "cell_type": "code",
   "execution_count": 118,
   "id": "ed1f0d3e",
   "metadata": {},
   "outputs": [
    {
     "name": "stdout",
     "output_type": "stream",
     "text": [
      "application/json\n"
     ]
    }
   ],
   "source": [
    "# get the type of the content\n",
    "print(r.headers['content-type'])"
   ]
  },
  {
   "cell_type": "markdown",
   "id": "aae88e82",
   "metadata": {},
   "source": [
    "我们除了使用之前提到的r.json()来返回内容数据以外，还可以用json库的更为强大的函数来获取内容。\n",
    "如下面那个例子：\n",
    "1. 用text属性获得String类型的内容\n",
    "2. 用json.load()将其转换为dictionary\n",
    "3. 用json.dumps()来整理格式并输出"
   ]
  },
  {
   "cell_type": "code",
   "execution_count": 121,
   "id": "3c49fb3e",
   "metadata": {},
   "outputs": [
    {
     "name": "stdout",
     "output_type": "stream",
     "text": [
      "<class 'requests.models.Response'> <class 'str'> <class 'dict'>\n"
     ]
    }
   ],
   "source": [
    "results = json.loads(r.text)\n",
    "print(type(r), type(r.text), type(results))"
   ]
  },
  {
   "cell_type": "code",
   "execution_count": 127,
   "id": "d9336077",
   "metadata": {},
   "outputs": [
    {
     "name": "stdout",
     "output_type": "stream",
     "text": [
      "{\n",
      "    \"args\": {\n",
      "        \"ID\": \"123\",\n",
      "        \"name\": \"Joseph\"\n",
      "    },\n",
      "    \"headers\": {\n",
      "        \"Accept\": \"*/*\",\n",
      "        \"Accept-Encoding\": \"gzip, deflate, br\",\n",
      "        \"Host\": \"httpbin.org\",\n",
      "        \"User-Agent\": \"python-requests/2.27.1\",\n",
      "        \"X-Amzn-Trace-Id\": \"Root=1-63431d5f-061af70d60db137e3526f046\"\n",
      "    },\n",
      "    \"origin\": \"87.189.151.85\",\n",
      "    \"url\": \"http://httpbin.org/get?name=Joseph&ID=123\"\n",
      "}\n"
     ]
    }
   ],
   "source": [
    "print(json.dumps(results, indent=4))"
   ]
  },
  {
   "cell_type": "markdown",
   "id": "7721c62e",
   "metadata": {},
   "source": [
    "### 总结"
   ]
  },
  {
   "cell_type": "markdown",
   "id": "960c1f51",
   "metadata": {},
   "source": [
    "requests库是一个功能非常强大的库，对于返回的response的控制有了更好的灵活。**是最值得推荐使用的一个库。**"
   ]
  },
  {
   "cell_type": "code",
   "execution_count": null,
   "id": "f2a6795f",
   "metadata": {},
   "outputs": [],
   "source": []
  }
 ],
 "metadata": {
  "kernelspec": {
   "display_name": "Python 3 (ipykernel)",
   "language": "python",
   "name": "python3"
  },
  "language_info": {
   "codemirror_mode": {
    "name": "ipython",
    "version": 3
   },
   "file_extension": ".py",
   "mimetype": "text/x-python",
   "name": "python",
   "nbconvert_exporter": "python",
   "pygments_lexer": "ipython3",
   "version": "3.9.12"
  }
 },
 "nbformat": 4,
 "nbformat_minor": 5
}
